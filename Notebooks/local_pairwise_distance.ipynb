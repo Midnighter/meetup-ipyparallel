{
 "cells": [
  {
   "cell_type": "markdown",
   "metadata": {},
   "source": [
    "# Pairwise Distances "
   ]
  },
  {
   "cell_type": "markdown",
   "metadata": {},
   "source": [
    "## An embarrassingly parallel problem."
   ]
  },
  {
   "cell_type": "code",
   "execution_count": 1,
   "metadata": {
    "collapsed": false
   },
   "outputs": [],
   "source": [
    "import numpy as np"
   ]
  },
  {
   "cell_type": "code",
   "execution_count": 2,
   "metadata": {
    "collapsed": true
   },
   "outputs": [],
   "source": [
    "from scipy.spatial.distance import pdist"
   ]
  },
  {
   "cell_type": "code",
   "execution_count": 3,
   "metadata": {
    "collapsed": false
   },
   "outputs": [],
   "source": [
    "import pub_helpers as pub"
   ]
  },
  {
   "cell_type": "markdown",
   "metadata": {},
   "source": [
    "### Start Small"
   ]
  },
  {
   "cell_type": "code",
   "execution_count": 4,
   "metadata": {
    "collapsed": false
   },
   "outputs": [],
   "source": [
    "shape = (1000, 300)"
   ]
  },
  {
   "cell_type": "code",
   "execution_count": 5,
   "metadata": {
    "collapsed": false
   },
   "outputs": [
    {
     "data": {
      "text/plain": [
       "'2.4E+06 bytes.'"
      ]
     },
     "execution_count": 5,
     "metadata": {},
     "output_type": "execute_result"
    }
   ],
   "source": [
    "pub.format_memory(pub.size(shape))"
   ]
  },
  {
   "cell_type": "code",
   "execution_count": 6,
   "metadata": {
    "collapsed": false
   },
   "outputs": [
    {
     "data": {
      "text/plain": [
       "'499500 pairwise comparisons.'"
      ]
     },
     "execution_count": 6,
     "metadata": {},
     "output_type": "execute_result"
    }
   ],
   "source": [
    "pub.format_pairs(pub.num_pairs(shape))"
   ]
  },
  {
   "cell_type": "code",
   "execution_count": 7,
   "metadata": {
    "collapsed": false
   },
   "outputs": [
    {
     "data": {
      "text/plain": [
       "'3.996E+06 bytes.'"
      ]
     },
     "execution_count": 7,
     "metadata": {},
     "output_type": "execute_result"
    }
   ],
   "source": [
    "pub.format_memory(pub.num_pairs(shape))"
   ]
  },
  {
   "cell_type": "code",
   "execution_count": 8,
   "metadata": {
    "collapsed": false
   },
   "outputs": [],
   "source": [
    "arr = np.random.sample(shape)"
   ]
  },
  {
   "cell_type": "code",
   "execution_count": 9,
   "metadata": {
    "collapsed": false
   },
   "outputs": [
    {
     "name": "stdout",
     "output_type": "stream",
     "text": [
      "CPU times: user 116 ms, sys: 0 ns, total: 116 ms\n",
      "Wall time: 118 ms\n"
     ]
    }
   ],
   "source": [
    "%%time\n",
    "scipy_dist = pdist(arr, \"euclidean\")"
   ]
  },
  {
   "cell_type": "markdown",
   "metadata": {},
   "source": [
    "### Larger"
   ]
  },
  {
   "cell_type": "code",
   "execution_count": 10,
   "metadata": {
    "collapsed": false
   },
   "outputs": [],
   "source": [
    "shape_l = (10000, 300)"
   ]
  },
  {
   "cell_type": "code",
   "execution_count": 11,
   "metadata": {
    "collapsed": false
   },
   "outputs": [
    {
     "data": {
      "text/plain": [
       "'2.4E+07 bytes.'"
      ]
     },
     "execution_count": 11,
     "metadata": {},
     "output_type": "execute_result"
    }
   ],
   "source": [
    "pub.format_memory(pub.size(shape_l))"
   ]
  },
  {
   "cell_type": "code",
   "execution_count": 12,
   "metadata": {
    "collapsed": false
   },
   "outputs": [
    {
     "data": {
      "text/plain": [
       "'4.9995E+07 pairwise comparisons.'"
      ]
     },
     "execution_count": 12,
     "metadata": {},
     "output_type": "execute_result"
    }
   ],
   "source": [
    "pub.format_pairs(pub.num_pairs(shape_l))"
   ]
  },
  {
   "cell_type": "code",
   "execution_count": 13,
   "metadata": {
    "collapsed": false
   },
   "outputs": [
    {
     "data": {
      "text/plain": [
       "'3.9996E+08 bytes.'"
      ]
     },
     "execution_count": 13,
     "metadata": {},
     "output_type": "execute_result"
    }
   ],
   "source": [
    "pub.format_memory(pub.num_pairs(shape_l))"
   ]
  },
  {
   "cell_type": "code",
   "execution_count": 14,
   "metadata": {
    "collapsed": false
   },
   "outputs": [],
   "source": [
    "arr_l = np.random.sample(shape_l)"
   ]
  },
  {
   "cell_type": "code",
   "execution_count": 15,
   "metadata": {
    "collapsed": false
   },
   "outputs": [
    {
     "name": "stdout",
     "output_type": "stream",
     "text": [
      "CPU times: user 10.9 s, sys: 20 ms, total: 10.9 s\n",
      "Wall time: 10.9 s\n"
     ]
    }
   ],
   "source": [
    "%%time\n",
    "scipy_dist = pdist(arr_l, \"euclidean\")"
   ]
  },
  {
   "cell_type": "markdown",
   "metadata": {},
   "source": [
    "## Local Parallel Approaches:"
   ]
  },
  {
   "cell_type": "code",
   "execution_count": 16,
   "metadata": {
    "collapsed": true
   },
   "outputs": [],
   "source": [
    "from ipyparallel import Client"
   ]
  },
  {
   "cell_type": "code",
   "execution_count": 17,
   "metadata": {
    "collapsed": false
   },
   "outputs": [],
   "source": [
    "rclient = Client(profile=\"mylocal\")"
   ]
  },
  {
   "cell_type": "code",
   "execution_count": 18,
   "metadata": {
    "collapsed": false
   },
   "outputs": [],
   "source": [
    "dview = rclient.direct_view()"
   ]
  },
  {
   "cell_type": "code",
   "execution_count": 19,
   "metadata": {
    "collapsed": true
   },
   "outputs": [],
   "source": [
    "lview = rclient.load_balanced_view()"
   ]
  },
  {
   "cell_type": "code",
   "execution_count": 20,
   "metadata": {
    "collapsed": false
   },
   "outputs": [
    {
     "data": {
      "text/plain": [
       "False"
      ]
     },
     "execution_count": 20,
     "metadata": {},
     "output_type": "execute_result"
    }
   ],
   "source": [
    "lview.block"
   ]
  },
  {
   "cell_type": "markdown",
   "metadata": {},
   "source": [
    "### Silly"
   ]
  },
  {
   "cell_type": "code",
   "execution_count": 21,
   "metadata": {
    "collapsed": true
   },
   "outputs": [],
   "source": [
    "from scipy.spatial.distance import euclidean"
   ]
  },
  {
   "cell_type": "code",
   "execution_count": 22,
   "metadata": {
    "collapsed": true
   },
   "outputs": [],
   "source": [
    "def parallel_distance(argv):\n",
    "    (matrix, i, j) = argv\n",
    "    return (euclidean(matrix[i, :], matrix[j, :]), i, j)"
   ]
  },
  {
   "cell_type": "code",
   "execution_count": 23,
   "metadata": {
    "collapsed": false
   },
   "outputs": [],
   "source": [
    "arr_s = np.random.sample((10, 365))"
   ]
  },
  {
   "cell_type": "code",
   "execution_count": 24,
   "metadata": {
    "collapsed": false
   },
   "outputs": [
    {
     "name": "stdout",
     "output_type": "stream",
     "text": [
      "CPU times: user 0 ns, sys: 0 ns, total: 0 ns\n",
      "Wall time: 120 µs\n"
     ]
    },
    {
     "data": {
      "text/plain": [
       "array([ 7.69106835,  7.82960738,  7.92083473,  7.45475052,  7.72887399,\n",
       "        7.6745607 ,  7.82930681,  7.79978895,  8.02424036,  7.96520435,\n",
       "        8.03889274,  8.12097772,  8.25726012,  7.71454792,  7.77906949,\n",
       "        7.56367922,  7.61689153,  7.7277469 ,  8.18284827,  8.00660823,\n",
       "        7.63662404,  7.96945569,  7.62378236,  7.95258099,  7.61276661,\n",
       "        7.6899261 ,  7.7818716 ,  7.68072532,  7.65734471,  7.49017931,\n",
       "        7.937314  ,  7.8597923 ,  7.42085203,  7.77926115,  8.23445877,\n",
       "        7.69966229,  8.11080204,  7.76714485,  7.84786048,  7.46872854,\n",
       "        7.47155998,  7.71924349,  7.49130884,  7.58271939,  7.86495515])"
      ]
     },
     "execution_count": 24,
     "metadata": {},
     "output_type": "execute_result"
    }
   ],
   "source": [
    "%%time\n",
    "pdist(arr_s)"
   ]
  },
  {
   "cell_type": "code",
   "execution_count": 25,
   "metadata": {
    "collapsed": true
   },
   "outputs": [],
   "source": [
    "from tqdm import tnrange"
   ]
  },
  {
   "cell_type": "code",
   "execution_count": 26,
   "metadata": {
    "collapsed": false
   },
   "outputs": [
    {
     "data": {
      "text/plain": [
       "[None, None, None]"
      ]
     },
     "execution_count": 26,
     "metadata": {},
     "output_type": "execute_result"
    }
   ],
   "source": [
    "dview.push({\"euclidean\": euclidean}, block=True)"
   ]
  },
  {
   "cell_type": "code",
   "execution_count": 27,
   "metadata": {
    "collapsed": false
   },
   "outputs": [
    {
     "data": {
      "image/png": "[encoded data removed]",
      "text/html": [
       "<img src=data:image/png;base64,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 class=\"jupyter-widget\">\n",
       "<script type=\"application/vnd.jupyter-embedded-widgets\">[{},{\"max\":45,\"orientation\":\"horizontal\",\"layout\":\"IPY_MODEL_76e9b12799ea499aaafaba44c7f7b0fe\",\"bar_style\":\"success\",\"value\":45},{},{\"layout\":\"IPY_MODEL_777e30fa55be479daf687cc6f453f4b0\",\"value\":\"100% 45/45 [00:00&lt;00:00, 154.22it/s]\"},{\"align_items\":\"stretch\",\"display\":\"flex\"},{\"children\":[\"IPY_MODEL_fde7dfc180ca42f29df26185c2093a21\",\"IPY_MODEL_88d7b0e5e1df43ffb642ed7acebf492d\"],\"layout\":\"IPY_MODEL_d1f8160548a14291aea7c73e7dbdec12\"}]</script>"
      ]
     },
     "metadata": {
      "isWidgetSnapshot": true
     },
     "output_type": "display_data"
    },
    {
     "data": {
      "image/png": "[encoded data removed]",
      "text/html": [
       "<img src=data:image/png;base64,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 class=\"jupyter-widget\">\n",
       "<script type=\"application/vnd.jupyter-embedded-widgets\">[{},{\"max\":45,\"orientation\":\"horizontal\",\"layout\":\"IPY_MODEL_76e9b12799ea499aaafaba44c7f7b0fe\",\"bar_style\":\"success\",\"value\":45},{},{\"layout\":\"IPY_MODEL_777e30fa55be479daf687cc6f453f4b0\",\"value\":\"100% 45/45 [00:00&lt;00:00, 154.22it/s]\"},{\"align_items\":\"stretch\",\"display\":\"flex\"},{\"children\":[\"IPY_MODEL_fde7dfc180ca42f29df26185c2093a21\",\"IPY_MODEL_88d7b0e5e1df43ffb642ed7acebf492d\"],\"layout\":\"IPY_MODEL_d1f8160548a14291aea7c73e7dbdec12\"}]</script>"
      ]
     },
     "metadata": {
      "isWidgetSnapshot": true
     },
     "output_type": "display_data"
    }
   ],
   "source": [
    "arr_res = np.zeros(arr_s.shape)\n",
    "bar = tnrange(pub.num_pairs(arr_s.shape))\n",
    "res_it = lview.map(parallel_distance, [(arr_s, i, j) for i in range(arr_s.shape[0] - 1) for j in range(i + 1, arr_s.shape[0])])\n",
    "for res in res_it:\n",
    "    arr_res[res[1], res[2]] = res[0]\n",
    "    bar.update()"
   ]
  },
  {
   "cell_type": "code",
   "execution_count": 28,
   "metadata": {
    "collapsed": false
   },
   "outputs": [
    {
     "data": {
      "text/plain": [
       "True"
      ]
     },
     "execution_count": 28,
     "metadata": {},
     "output_type": "execute_result"
    }
   ],
   "source": [
    "lview.wait()"
   ]
  },
  {
   "cell_type": "code",
   "execution_count": 29,
   "metadata": {
    "collapsed": false
   },
   "outputs": [
    {
     "data": {
      "text/plain": [
       "array([[ 0.        ,  7.69106835,  7.82960738, ...,  0.        ,\n",
       "         0.        ,  0.        ],\n",
       "       [ 0.        ,  0.        ,  7.96520435, ...,  0.        ,\n",
       "         0.        ,  0.        ],\n",
       "       [ 0.        ,  0.        ,  0.        , ...,  0.        ,\n",
       "         0.        ,  0.        ],\n",
       "       ..., \n",
       "       [ 0.        ,  0.        ,  0.        , ...,  0.        ,\n",
       "         0.        ,  0.        ],\n",
       "       [ 0.        ,  0.        ,  0.        , ...,  0.        ,\n",
       "         0.        ,  0.        ],\n",
       "       [ 0.        ,  0.        ,  0.        , ...,  0.        ,\n",
       "         0.        ,  0.        ]])"
      ]
     },
     "execution_count": 29,
     "metadata": {},
     "output_type": "execute_result"
    }
   ],
   "source": [
    "arr_res"
   ]
  },
  {
   "cell_type": "markdown",
   "metadata": {},
   "source": [
    "## Smarter"
   ]
  },
  {
   "cell_type": "code",
   "execution_count": 30,
   "metadata": {
    "collapsed": true
   },
   "outputs": [],
   "source": [
    "from ipyparallel import require"
   ]
  },
  {
   "cell_type": "code",
   "execution_count": 31,
   "metadata": {
    "collapsed": false
   },
   "outputs": [
    {
     "name": "stdout",
     "output_type": "stream",
     "text": [
      "importing numpy on engine(s)\n"
     ]
    }
   ],
   "source": [
    "with dview.sync_imports():\n",
    "    import numpy"
   ]
  },
  {
   "cell_type": "code",
   "execution_count": 32,
   "metadata": {
    "collapsed": true
   },
   "outputs": [],
   "source": [
    "def chunk_distance(i):\n",
    "    global arr\n",
    "    res = numpy.zeros(arr.shape[0] - i)\n",
    "    for (k, j) in enumerate(range(i + 1, arr.shape[0])):\n",
    "        res[k] = euclidean(arr[i], arr[j])\n",
    "    return res"
   ]
  },
  {
   "cell_type": "code",
   "execution_count": 33,
   "metadata": {
    "collapsed": false
   },
   "outputs": [
    {
     "data": {
      "text/plain": [
       "[None, None, None]"
      ]
     },
     "execution_count": 33,
     "metadata": {},
     "output_type": "execute_result"
    }
   ],
   "source": [
    "dview.push({\"arr\": arr}, block=True)"
   ]
  },
  {
   "cell_type": "code",
   "execution_count": 34,
   "metadata": {
    "collapsed": false
   },
   "outputs": [
    {
     "data": {
      "image/png": "[encoded data removed]",
      "text/html": [
       "<img src=data:image/png;base64,iVBORw0KGgoAAAANSUhEUgAAA9cAAAAvCAYAAADpXjnAAAAI5klEQVR4nO3da6wcZRnA8X9pSwlUWxQaKpeKCmK9gBJMNcZS0GqFiIn4QSmxkYMiVBpFidaiNcEoGqoSxdaWtCHBxLZeIAKVtiiR0EJPKS2WiuKFUqsE76jRWHv88LyTM2fOXmZ2z+6eDf9f8iRnd595552dOZt99p15ByRJkiRJkiRJkiRJkiRJkiRJkiRJkiRJkiRJkiRJkiRJkiRJkiRJkiRJkiRJkiRJkiRJkiRJkiRJkiRJkiRJkiRJkiRJkiRJkiRJkqTnqCOBzwOHgJfVyZkPbAPuAe4H5rSQ81bgvvT6tYXXng/8CjipR30rm0Pqz01d7uMgcADYlyLLWTKG21V1ucnADcBO4EfAduCDJdtuZ71lc6q0nd+Hi2rkvA/YCtxNHMO3Ay9vsJ4PA0PAuSX6NBO4lXgPtwF7gHdVbPeTafnMm4GBBussHsP1bAIeSut8S4l8SZLas35o/cSDQwePNgzDGI/R5CPsFOABYB3xBbpWcTgb+BvwyvR4HvAX4EUVcqYAvwdOJYqyJ4DX5pb/MnBdj/pWNifzCPD2LvdxEFhZyFkEHE65Y7FdVfv8GeAp4ocRgBOBvwMXNGm73fWO9Tadw8h9+GyNnH8Db8u1dSOwn+Ftz5sJ/JZyxfVU4HHgnbnnvgEsr9juXODK3ONlxI8d9eSP4WamYnEtSeqGFTtW/GThpoVDhmEY4zUGNg8c3vj4xqvqfIzNBk4H3kT94nAd8IPCcw8DX6iQ82rgd7nXbgMWp79PJwqMo3rUt7I5EAXcP3J97VYfB4HdhZx1wF8L7bS6Xa30+fvAHTVyvtak7cyxwEeI97DKesvk1FJvudWM3Ieba+TsLTz34pS7oMZ6NhAj+GWK66XEiHjeCak/7bTbqLguHsPNWFxLkjpv+dDyI3r9pdkwDKNMrHxk5Z4mH2mNisMDxJf1vFVEwVc25xXAM7nXNgBXpL/vBC7uYd/K5kCcavvDHvRxkBgVXlZYZkehnVa3q5U+X0rs05ekx68jRniXNmh3AnAe8O2U+yhwWsX1dmqbsn24okTbM1Nu8fTtC4HvEJc3lCmCdxJnADTTqN0B4OfE+wlxycVTxAj89hQnFfLzx/BFxOnvm4nT0r9KnGmSsbiWJHXewaGDR/f6C7NhGEaZaKO4npKeL16/+TngzxVyJgFPEkXBC4GniWtWFwA/7nHfyuRkvkdc99rtPu4s5GTL3FHoYyvbdTGxb2ZVXA7gMuBPxOjuIeBeYDqjnUgUtr8mir41jL5Oeiz3VSvbNC/lFH8cqLXd707PHZN7bipxvfRMyhXXE4D/AJ8iCvitxDXOlxTyyrR7IcPFNTQeuc4fw9PTcqekx88DfgMcV1i/xbUkqbMsrg3D6Jdoo7g+Nj1/aeH5pQx/mS+TAzGyeQ8xIdRC4trrvcBriJHtu9JrH+hy38r2/0hi9HgWo3W6j7sKOdkyGwp9bGW7LiEK5JdWXO69wB+IfQcxAr2MkaOeryfOTDgEPAhcThRrtYzlvmplmxaknI83aXsisT/eX8j7CsNFa5ni+piU8y9iAjKAM1K/r8jllWm3bHFdPIZPS+3Ny+WcRfxvZiyuJUmdZ3FtGEa/xDgYua7lGuCbxAjeY0RxM404pfWsLvatbP/PZ/S1t93qYydHrovKLvck8MVCzm3AzYVlhogR2dk01sljbSxHrr9OnDqddzbwU+JYhnLF9VEp5+7C8zcBv6zYbtniutYxvIaYGO9+4CrifzDP4lqS1HkW14Zh9Et06JrrHRVz8mYQMx8fB5wM/DP32lpGjh52o29lcm4kZjWvpdN9bHTN9Y46y5Rddy3NljuS2N4PFXKuJ2aFz0wkZsK+HfgvcU3vZdQfve7EsVZ2uUbXXGc51xETo00o5HwW+BnD1zg/nNp6LD0+o06f/khMqJZ3DfFeTajQbtniut4xPJuYEO5pYuLBk3OvWVxLkjrP4towjH6JNovrtYyeZXknI2dnLpOTtwa4Ov19KnGLpMy3iPv2drNvZXL2UX8kstN9rDVb+FpGzxbe7n6pstwzjL5l1C3EbdZqOYHYr78grru+BXhDC+vt1DbVmy08y1kCbCR+MIDY1/VuZ1V2QrPvMnqCvC8R1z1XabdYXH+a4eJ6MvFjCIw+hmcwch9MI/Zr/u4CFteSpM6zuDYMo1+izeI6uz/wq9LjRvcebpSTOZuYJXpSejyROBX8zPT3o6k/3exbs5zsB4BJ1NbpPubvc53lLCJO5z2vjXYB3kOM6s6quNwNxNkHM9Lj7D26nubmArcy8nrjsuvt1DZl+/DZGjkfI2bkfiNReB4miu3iafGZekXwJ1I72f3n5xDvQXZf7eOJ/4WPVmy3WFxfntZD6uOV1D6G5xBFeHaN9XTimu/zczkW15KkzrO4NgyjX6JBcT2R+HK9l/gCvYu4PrZoPjEh1b3AA4ye6blsDsS1nfMLz52bnt/K8Ghot/vWKGcxMWpZ1K0+DhJFazFnSZvtQkwul5/8q+xyU4h9NUjM+L6LuK3UZMqbRkw2VmW9ZXKqbFNxHz5BnBGQ5cwF/pdeK0at4vpmRp6+nb8X+DJgPyNPi7+IeA/vS+u7GjiiQrvZrbgOp+2YRVxusT21uYUommsdw8cTZxA8mPIeIo6pPItrSVLnWVwbhtEvUWLkWo3dxehZzLspK67VWy8giu939LojLWj1GLa4liR1nsW1YRj9EhbXbbuWGOXrlTsZnsTqgh7247nuTOKU837UyjG8iRjVPsDISzUkSRpbFteGYfRLWFxLkiRp3LK4NgyjX8LiWpIkSeOWxbVhGP0SFteSJEkatyyuDcPol7C4liRJ0rhlcW0YRr+ExbUkSZLGtYEtA4d7/aXZMAyjWazevXpbrz8vJUmSpLrW71u/eNXuVXsMwzDGa6zZs2bblv1bzun156UkSZIkSZIkSZIkSZIkSZIkSZIkSZIkSZIkSZIkSZIkSZIkSZIkSZIkSZIkSZIkSZIkSZIkSZIkSZIkSZIkSZIkSZIkSZIkSZIkSZIkSZIkSZIkSeql/wNy6p4Uq5DiMQAAAABJRU5ErkJggg== class=\"jupyter-widget\">\n",
       "<script type=\"application/vnd.jupyter-embedded-widgets\">[{},{\"max\":1000,\"orientation\":\"horizontal\",\"layout\":\"IPY_MODEL_ff90ae3309724a1bbfc3c97463023ceb\",\"bar_style\":\"success\",\"value\":1000},{},{\"layout\":\"IPY_MODEL_cdf2d7a7330b40f0a96996b3c0cb74c9\",\"value\":\"100% 1000/1000 [00:08&lt;00:00, 124.64it/s]\"},{\"align_items\":\"stretch\",\"display\":\"flex\"},{\"children\":[\"IPY_MODEL_5702e70034614364a19bda33789b67be\",\"IPY_MODEL_bf33026a067b4a7a83703bccd82f1e81\"],\"layout\":\"IPY_MODEL_bbb14d2df25d4ce88566f825d4006f19\"}]</script>"
      ]
     },
     "metadata": {
      "isWidgetSnapshot": true
     },
     "output_type": "display_data"
    },
    {
     "data": {
      "image/png": "[encoded data removed]",
      "text/html": [
       "<img src=data:image/png;base64,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 class=\"jupyter-widget\">\n",
       "<script type=\"application/vnd.jupyter-embedded-widgets\">[{},{\"max\":1000,\"orientation\":\"horizontal\",\"layout\":\"IPY_MODEL_ff90ae3309724a1bbfc3c97463023ceb\",\"bar_style\":\"success\",\"value\":1000},{},{\"layout\":\"IPY_MODEL_cdf2d7a7330b40f0a96996b3c0cb74c9\",\"value\":\"100% 1000/1000 [00:08&lt;00:00, 124.64it/s]\"},{\"align_items\":\"stretch\",\"display\":\"flex\"},{\"children\":[\"IPY_MODEL_5702e70034614364a19bda33789b67be\",\"IPY_MODEL_bf33026a067b4a7a83703bccd82f1e81\"],\"layout\":\"IPY_MODEL_bbb14d2df25d4ce88566f825d4006f19\"}]</script>"
      ]
     },
     "metadata": {
      "isWidgetSnapshot": true
     },
     "output_type": "display_data"
    },
    {
     "name": "stdout",
     "output_type": "stream",
     "text": [
      "\n"
     ]
    }
   ],
   "source": [
    "bar = tnrange(arr.shape[0])\n",
    "res_it = lview.map(chunk_distance, list(range(arr.shape[0])))\n",
    "for res in res_it:\n",
    "    bar.update()"
   ]
  },
  {
   "cell_type": "code",
   "execution_count": 35,
   "metadata": {
    "collapsed": true
   },
   "outputs": [],
   "source": [
    "from tqdm import trange"
   ]
  },
  {
   "cell_type": "code",
   "execution_count": 36,
   "metadata": {
    "collapsed": false
   },
   "outputs": [
    {
     "name": "stderr",
     "output_type": "stream",
     "text": [
      "\r",
      "  0%|          | 0/1000 [00:00<?, ?it/s]"
     ]
    },
    {
     "name": "stdout",
     "output_type": "stream",
     "text": [
      "\n"
     ]
    },
    {
     "name": "stderr",
     "output_type": "stream",
     "text": [
      " 96%|█████████▋| 964/1000 [00:07<00:00, 246.71it/s]"
     ]
    }
   ],
   "source": [
    "bar = trange(arr.shape[0])\n",
    "res_it = lview.map(chunk_distance, list(range(arr.shape[0])))\n",
    "for res in res_it:\n",
    "    bar.update()"
   ]
  },
  {
   "cell_type": "code",
   "execution_count": 37,
   "metadata": {
    "collapsed": false
   },
   "outputs": [
    {
     "data": {
      "text/plain": [
       "[None, None, None]"
      ]
     },
     "execution_count": 37,
     "metadata": {},
     "output_type": "execute_result"
    }
   ],
   "source": [
    "dview.push({\"arr\": arr_l}, block=True)"
   ]
  },
  {
   "cell_type": "code",
   "execution_count": 38,
   "metadata": {
    "collapsed": false
   },
   "outputs": [
    {
     "data": {
      "image/png": "[encoded data removed]",
      "text/html": [
       "<img src=data:image/png;base64,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 class=\"jupyter-widget\">\n",
       "<script type=\"application/vnd.jupyter-embedded-widgets\">[{},{\"max\":10000,\"orientation\":\"horizontal\",\"layout\":\"IPY_MODEL_b73f332ceebc46dfa8d1f19cacddb2d0\",\"value\":10000},{},{\"layout\":\"IPY_MODEL_61ea58a36a0c4890b6eec774daee0b3b\",\"value\":\"100% 10000/10000 [06:53&lt;00:00, 266.94it/s]\"},{\"align_items\":\"stretch\",\"display\":\"flex\"},{\"children\":[\"IPY_MODEL_d7482f3f588b49bda3d1238685275d26\",\"IPY_MODEL_bdead8747171444f99c893609fcafa0d\"],\"layout\":\"IPY_MODEL_6d43365cb52444b49e4220e3892d8252\"}]</script>"
      ]
     },
     "metadata": {
      "isWidgetSnapshot": true
     },
     "output_type": "display_data"
    },
    {
     "data": {
      "image/png": "[encoded data removed]",
      "text/html": [
       "<img src=data:image/png;base64,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 class=\"jupyter-widget\">\n",
       "<script type=\"application/vnd.jupyter-embedded-widgets\">[{},{\"max\":10000,\"orientation\":\"horizontal\",\"layout\":\"IPY_MODEL_b73f332ceebc46dfa8d1f19cacddb2d0\",\"value\":10000},{},{\"layout\":\"IPY_MODEL_61ea58a36a0c4890b6eec774daee0b3b\",\"value\":\"100% 10000/10000 [06:53&lt;00:00, 266.94it/s]\"},{\"align_items\":\"stretch\",\"display\":\"flex\"},{\"children\":[\"IPY_MODEL_d7482f3f588b49bda3d1238685275d26\",\"IPY_MODEL_bdead8747171444f99c893609fcafa0d\"],\"layout\":\"IPY_MODEL_6d43365cb52444b49e4220e3892d8252\"}]</script>"
      ]
     },
     "metadata": {
      "isWidgetSnapshot": true
     },
     "output_type": "display_data"
    },
    {
     "name": "stderr",
     "output_type": "stream",
     "text": [
      "100%|██████████| 1000/1000 [00:07<00:00, 130.46it/s]\n"
     ]
    }
   ],
   "source": [
    "bar = tnrange(arr_l.shape[0])\n",
    "res_it = lview.map(chunk_distance, list(range(arr_l.shape[0])))\n",
    "for res in res_it:\n",
    "    bar.update()"
   ]
  }
 ],
 "metadata": {
  "kernelspec": {
   "display_name": "Python 3",
   "language": "python",
   "name": "python3"
  },
  "language_info": {
   "codemirror_mode": {
    "name": "ipython",
    "version": 3
   },
   "file_extension": ".py",
   "mimetype": "text/x-python",
   "name": "python",
   "nbconvert_exporter": "python",
   "pygments_lexer": "ipython3",
   "version": "3.5.2"
  },
  "widgets": {
   "state": {
    "1c0e2e96855b40728e05d0e53adef5c6": {
     "views": [
      {
       "cell_index": 32
      }
     ]
    },
    "2244497f706641d6844ce4230379bd27": {
     "views": [
      {
       "cell_index": 44
      }
     ]
    },
    "d3a11e8a88b242ec82c1cba8b4616699": {
     "views": [
      {
       "cell_index": 40
      }
     ]
    }
   },
   "version": "1.2.0"
  }
 },
 "nbformat": 4,
 "nbformat_minor": 1
}
